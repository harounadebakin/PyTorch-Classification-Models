{
  "nbformat": 4,
  "nbformat_minor": 0,
  "metadata": {
    "colab": {
      "provenance": []
    },
    "kernelspec": {
      "name": "python3",
      "display_name": "Python 3"
    },
    "language_info": {
      "name": "python"
    },
    "widgets": {
      "application/vnd.jupyter.widget-state+json": {
        "028ed079993242aab10fba75587e8774": {
          "model_module": "@jupyter-widgets/controls",
          "model_name": "HBoxModel",
          "model_module_version": "1.5.0",
          "state": {
            "_dom_classes": [],
            "_model_module": "@jupyter-widgets/controls",
            "_model_module_version": "1.5.0",
            "_model_name": "HBoxModel",
            "_view_count": null,
            "_view_module": "@jupyter-widgets/controls",
            "_view_module_version": "1.5.0",
            "_view_name": "HBoxView",
            "box_style": "",
            "children": [
              "IPY_MODEL_3d72e4bda8414ecd8da0a19192932d3d",
              "IPY_MODEL_6bb58d1b23614370b363dd73f76b6a67",
              "IPY_MODEL_97813172331647c2812a547d098e2f90"
            ],
            "layout": "IPY_MODEL_124ca6b580db4c70be1b838b3910b392"
          }
        },
        "3d72e4bda8414ecd8da0a19192932d3d": {
          "model_module": "@jupyter-widgets/controls",
          "model_name": "HTMLModel",
          "model_module_version": "1.5.0",
          "state": {
            "_dom_classes": [],
            "_model_module": "@jupyter-widgets/controls",
            "_model_module_version": "1.5.0",
            "_model_name": "HTMLModel",
            "_view_count": null,
            "_view_module": "@jupyter-widgets/controls",
            "_view_module_version": "1.5.0",
            "_view_name": "HTMLView",
            "description": "",
            "description_tooltip": null,
            "layout": "IPY_MODEL_9789d1b36493412ab301fd6727c5f488",
            "placeholder": "​",
            "style": "IPY_MODEL_a53a75a8a3764e6aa16d67899a9c30dd",
            "value": "100%"
          }
        },
        "6bb58d1b23614370b363dd73f76b6a67": {
          "model_module": "@jupyter-widgets/controls",
          "model_name": "FloatProgressModel",
          "model_module_version": "1.5.0",
          "state": {
            "_dom_classes": [],
            "_model_module": "@jupyter-widgets/controls",
            "_model_module_version": "1.5.0",
            "_model_name": "FloatProgressModel",
            "_view_count": null,
            "_view_module": "@jupyter-widgets/controls",
            "_view_module_version": "1.5.0",
            "_view_name": "ProgressView",
            "bar_style": "success",
            "description": "",
            "description_tooltip": null,
            "layout": "IPY_MODEL_6bfa1bc5a6a04a1fad4dc83d7359afc2",
            "max": 3,
            "min": 0,
            "orientation": "horizontal",
            "style": "IPY_MODEL_87298479d11740d98d5c7b9b44846dd7",
            "value": 3
          }
        },
        "97813172331647c2812a547d098e2f90": {
          "model_module": "@jupyter-widgets/controls",
          "model_name": "HTMLModel",
          "model_module_version": "1.5.0",
          "state": {
            "_dom_classes": [],
            "_model_module": "@jupyter-widgets/controls",
            "_model_module_version": "1.5.0",
            "_model_name": "HTMLModel",
            "_view_count": null,
            "_view_module": "@jupyter-widgets/controls",
            "_view_module_version": "1.5.0",
            "_view_name": "HTMLView",
            "description": "",
            "description_tooltip": null,
            "layout": "IPY_MODEL_ff9da1f3863942a6a5cb3d2eb68f8655",
            "placeholder": "​",
            "style": "IPY_MODEL_00f672cf903a4bbfa3491dd4f47b0c87",
            "value": " 3/3 [00:43&lt;00:00, 14.32s/it]"
          }
        },
        "124ca6b580db4c70be1b838b3910b392": {
          "model_module": "@jupyter-widgets/base",
          "model_name": "LayoutModel",
          "model_module_version": "1.2.0",
          "state": {
            "_model_module": "@jupyter-widgets/base",
            "_model_module_version": "1.2.0",
            "_model_name": "LayoutModel",
            "_view_count": null,
            "_view_module": "@jupyter-widgets/base",
            "_view_module_version": "1.2.0",
            "_view_name": "LayoutView",
            "align_content": null,
            "align_items": null,
            "align_self": null,
            "border": null,
            "bottom": null,
            "display": null,
            "flex": null,
            "flex_flow": null,
            "grid_area": null,
            "grid_auto_columns": null,
            "grid_auto_flow": null,
            "grid_auto_rows": null,
            "grid_column": null,
            "grid_gap": null,
            "grid_row": null,
            "grid_template_areas": null,
            "grid_template_columns": null,
            "grid_template_rows": null,
            "height": null,
            "justify_content": null,
            "justify_items": null,
            "left": null,
            "margin": null,
            "max_height": null,
            "max_width": null,
            "min_height": null,
            "min_width": null,
            "object_fit": null,
            "object_position": null,
            "order": null,
            "overflow": null,
            "overflow_x": null,
            "overflow_y": null,
            "padding": null,
            "right": null,
            "top": null,
            "visibility": null,
            "width": null
          }
        },
        "9789d1b36493412ab301fd6727c5f488": {
          "model_module": "@jupyter-widgets/base",
          "model_name": "LayoutModel",
          "model_module_version": "1.2.0",
          "state": {
            "_model_module": "@jupyter-widgets/base",
            "_model_module_version": "1.2.0",
            "_model_name": "LayoutModel",
            "_view_count": null,
            "_view_module": "@jupyter-widgets/base",
            "_view_module_version": "1.2.0",
            "_view_name": "LayoutView",
            "align_content": null,
            "align_items": null,
            "align_self": null,
            "border": null,
            "bottom": null,
            "display": null,
            "flex": null,
            "flex_flow": null,
            "grid_area": null,
            "grid_auto_columns": null,
            "grid_auto_flow": null,
            "grid_auto_rows": null,
            "grid_column": null,
            "grid_gap": null,
            "grid_row": null,
            "grid_template_areas": null,
            "grid_template_columns": null,
            "grid_template_rows": null,
            "height": null,
            "justify_content": null,
            "justify_items": null,
            "left": null,
            "margin": null,
            "max_height": null,
            "max_width": null,
            "min_height": null,
            "min_width": null,
            "object_fit": null,
            "object_position": null,
            "order": null,
            "overflow": null,
            "overflow_x": null,
            "overflow_y": null,
            "padding": null,
            "right": null,
            "top": null,
            "visibility": null,
            "width": null
          }
        },
        "a53a75a8a3764e6aa16d67899a9c30dd": {
          "model_module": "@jupyter-widgets/controls",
          "model_name": "DescriptionStyleModel",
          "model_module_version": "1.5.0",
          "state": {
            "_model_module": "@jupyter-widgets/controls",
            "_model_module_version": "1.5.0",
            "_model_name": "DescriptionStyleModel",
            "_view_count": null,
            "_view_module": "@jupyter-widgets/base",
            "_view_module_version": "1.2.0",
            "_view_name": "StyleView",
            "description_width": ""
          }
        },
        "6bfa1bc5a6a04a1fad4dc83d7359afc2": {
          "model_module": "@jupyter-widgets/base",
          "model_name": "LayoutModel",
          "model_module_version": "1.2.0",
          "state": {
            "_model_module": "@jupyter-widgets/base",
            "_model_module_version": "1.2.0",
            "_model_name": "LayoutModel",
            "_view_count": null,
            "_view_module": "@jupyter-widgets/base",
            "_view_module_version": "1.2.0",
            "_view_name": "LayoutView",
            "align_content": null,
            "align_items": null,
            "align_self": null,
            "border": null,
            "bottom": null,
            "display": null,
            "flex": null,
            "flex_flow": null,
            "grid_area": null,
            "grid_auto_columns": null,
            "grid_auto_flow": null,
            "grid_auto_rows": null,
            "grid_column": null,
            "grid_gap": null,
            "grid_row": null,
            "grid_template_areas": null,
            "grid_template_columns": null,
            "grid_template_rows": null,
            "height": null,
            "justify_content": null,
            "justify_items": null,
            "left": null,
            "margin": null,
            "max_height": null,
            "max_width": null,
            "min_height": null,
            "min_width": null,
            "object_fit": null,
            "object_position": null,
            "order": null,
            "overflow": null,
            "overflow_x": null,
            "overflow_y": null,
            "padding": null,
            "right": null,
            "top": null,
            "visibility": null,
            "width": null
          }
        },
        "87298479d11740d98d5c7b9b44846dd7": {
          "model_module": "@jupyter-widgets/controls",
          "model_name": "ProgressStyleModel",
          "model_module_version": "1.5.0",
          "state": {
            "_model_module": "@jupyter-widgets/controls",
            "_model_module_version": "1.5.0",
            "_model_name": "ProgressStyleModel",
            "_view_count": null,
            "_view_module": "@jupyter-widgets/base",
            "_view_module_version": "1.2.0",
            "_view_name": "StyleView",
            "bar_color": null,
            "description_width": ""
          }
        },
        "ff9da1f3863942a6a5cb3d2eb68f8655": {
          "model_module": "@jupyter-widgets/base",
          "model_name": "LayoutModel",
          "model_module_version": "1.2.0",
          "state": {
            "_model_module": "@jupyter-widgets/base",
            "_model_module_version": "1.2.0",
            "_model_name": "LayoutModel",
            "_view_count": null,
            "_view_module": "@jupyter-widgets/base",
            "_view_module_version": "1.2.0",
            "_view_name": "LayoutView",
            "align_content": null,
            "align_items": null,
            "align_self": null,
            "border": null,
            "bottom": null,
            "display": null,
            "flex": null,
            "flex_flow": null,
            "grid_area": null,
            "grid_auto_columns": null,
            "grid_auto_flow": null,
            "grid_auto_rows": null,
            "grid_column": null,
            "grid_gap": null,
            "grid_row": null,
            "grid_template_areas": null,
            "grid_template_columns": null,
            "grid_template_rows": null,
            "height": null,
            "justify_content": null,
            "justify_items": null,
            "left": null,
            "margin": null,
            "max_height": null,
            "max_width": null,
            "min_height": null,
            "min_width": null,
            "object_fit": null,
            "object_position": null,
            "order": null,
            "overflow": null,
            "overflow_x": null,
            "overflow_y": null,
            "padding": null,
            "right": null,
            "top": null,
            "visibility": null,
            "width": null
          }
        },
        "00f672cf903a4bbfa3491dd4f47b0c87": {
          "model_module": "@jupyter-widgets/controls",
          "model_name": "DescriptionStyleModel",
          "model_module_version": "1.5.0",
          "state": {
            "_model_module": "@jupyter-widgets/controls",
            "_model_module_version": "1.5.0",
            "_model_name": "DescriptionStyleModel",
            "_view_count": null,
            "_view_module": "@jupyter-widgets/base",
            "_view_module_version": "1.2.0",
            "_view_name": "StyleView",
            "description_width": ""
          }
        }
      }
    }
  },
  "cells": [
    {
      "cell_type": "markdown",
      "source": [
        "## Aim: To compare a baseline model to a Convolutional Neural Network (CNN) in the classification of images from the FashionMNIST data\n",
        "\n"
      ],
      "metadata": {
        "id": "rqE9ctK8afno"
      }
    },
    {
      "cell_type": "markdown",
      "source": [
        "#### Let's import our dependencies"
      ],
      "metadata": {
        "id": "73n3GO2WbQ6F"
      }
    },
    {
      "cell_type": "code",
      "source": [
        "import torch\n",
        "import torchvision\n",
        "from torchvision import datasets\n",
        "from torchvision.transforms import ToTensor\n",
        "import matplotlib.pyplot as plt"
      ],
      "metadata": {
        "id": "RIxf6VfibXfS"
      },
      "execution_count": 78,
      "outputs": []
    },
    {
      "cell_type": "markdown",
      "source": [
        "#### We will proceed to download the data"
      ],
      "metadata": {
        "id": "LXJnUBMzbnER"
      }
    },
    {
      "cell_type": "code",
      "source": [
        "train_data = datasets.FashionMNIST(\n",
        "    root = \"data\",\n",
        "    train = True,\n",
        "    transform = ToTensor(),\n",
        "    download = True,\n",
        "    target_transform = None\n",
        ")\n",
        "\n",
        "test_data = datasets.FashionMNIST(\n",
        "    root = \"data\",\n",
        "    transform = ToTensor(),\n",
        "    train = False,\n",
        "    target_transform = None,\n",
        ")"
      ],
      "metadata": {
        "id": "1LTCZRYTbre3"
      },
      "execution_count": 79,
      "outputs": []
    },
    {
      "cell_type": "code",
      "source": [
        "len(train_data), len(test_data)"
      ],
      "metadata": {
        "colab": {
          "base_uri": "https://localhost:8080/"
        },
        "id": "8fegDNAPcbCN",
        "outputId": "fb126305-2848-4ff2-a7f1-a44d20d726b6"
      },
      "execution_count": 80,
      "outputs": [
        {
          "output_type": "execute_result",
          "data": {
            "text/plain": [
              "(60000, 10000)"
            ]
          },
          "metadata": {},
          "execution_count": 80
        }
      ]
    },
    {
      "cell_type": "code",
      "source": [
        "len(train_data.data), len(train_data.targets)"
      ],
      "metadata": {
        "colab": {
          "base_uri": "https://localhost:8080/"
        },
        "id": "rVJhjhvEcsny",
        "outputId": "ff06db59-a3a4-4cb9-cf52-6a0598ef1842"
      },
      "execution_count": 81,
      "outputs": [
        {
          "output_type": "execute_result",
          "data": {
            "text/plain": [
              "(60000, 60000)"
            ]
          },
          "metadata": {},
          "execution_count": 81
        }
      ]
    },
    {
      "cell_type": "code",
      "source": [
        "class_names = train_data.classes\n",
        "class_names"
      ],
      "metadata": {
        "colab": {
          "base_uri": "https://localhost:8080/"
        },
        "id": "fWbt7TaBcse2",
        "outputId": "04870146-c484-47b7-f02c-74979885f6b8"
      },
      "execution_count": 82,
      "outputs": [
        {
          "output_type": "execute_result",
          "data": {
            "text/plain": [
              "['T-shirt/top',\n",
              " 'Trouser',\n",
              " 'Pullover',\n",
              " 'Dress',\n",
              " 'Coat',\n",
              " 'Sandal',\n",
              " 'Shirt',\n",
              " 'Sneaker',\n",
              " 'Bag',\n",
              " 'Ankle boot']"
            ]
          },
          "metadata": {},
          "execution_count": 82
        }
      ]
    },
    {
      "cell_type": "markdown",
      "source": [
        "#### Let's view one of the images"
      ],
      "metadata": {
        "id": "tPKC6NzpcsON"
      }
    },
    {
      "cell_type": "code",
      "source": [
        "image, label = train_data[0]"
      ],
      "metadata": {
        "id": "iV-yicYIcsZl"
      },
      "execution_count": 83,
      "outputs": []
    },
    {
      "cell_type": "code",
      "source": [
        "image.shape"
      ],
      "metadata": {
        "colab": {
          "base_uri": "https://localhost:8080/"
        },
        "id": "VN58MICycsTe",
        "outputId": "4eb7c3c2-613d-4d17-80a6-d44639ed703b"
      },
      "execution_count": 84,
      "outputs": [
        {
          "output_type": "execute_result",
          "data": {
            "text/plain": [
              "torch.Size([1, 28, 28])"
            ]
          },
          "metadata": {},
          "execution_count": 84
        }
      ]
    },
    {
      "cell_type": "code",
      "source": [
        "label"
      ],
      "metadata": {
        "id": "-y4Z4Wa8eVX4",
        "outputId": "8395aede-10dc-4f32-add8-6af6cfb595c2",
        "colab": {
          "base_uri": "https://localhost:8080/"
        }
      },
      "execution_count": 85,
      "outputs": [
        {
          "output_type": "execute_result",
          "data": {
            "text/plain": [
              "9"
            ]
          },
          "metadata": {},
          "execution_count": 85
        }
      ]
    },
    {
      "cell_type": "code",
      "source": [
        "class_names[label]"
      ],
      "metadata": {
        "id": "xnKHIFGwepth",
        "outputId": "b9acdf65-6910-40c4-fbdc-1b15954eee40",
        "colab": {
          "base_uri": "https://localhost:8080/",
          "height": 35
        }
      },
      "execution_count": 86,
      "outputs": [
        {
          "output_type": "execute_result",
          "data": {
            "text/plain": [
              "'Ankle boot'"
            ],
            "application/vnd.google.colaboratory.intrinsic+json": {
              "type": "string"
            }
          },
          "metadata": {},
          "execution_count": 86
        }
      ]
    },
    {
      "cell_type": "code",
      "source": [
        "plt.figure(figsize=(10,7))\n",
        "plt.imshow(image.squeeze())\n",
        "plt.title(class_names[label])"
      ],
      "metadata": {
        "colab": {
          "base_uri": "https://localhost:8080/",
          "height": 639
        },
        "id": "JIVtrhfOclsJ",
        "outputId": "d4a73ba2-bb89-4e48-c4c0-b5bbe5ec9047"
      },
      "execution_count": 87,
      "outputs": [
        {
          "output_type": "execute_result",
          "data": {
            "text/plain": [
              "Text(0.5, 1.0, 'Ankle boot')"
            ]
          },
          "metadata": {},
          "execution_count": 87
        },
        {
          "output_type": "display_data",
          "data": {
            "text/plain": [
              "<Figure size 1000x700 with 1 Axes>"
            ],
            "image/png": "[encoded data removed]"
          },
          "metadata": {}
        }
      ]
    },
    {
      "cell_type": "code",
      "source": [
        "plt.figure(figsize=(10,7))\n",
        "plt.imshow(image.squeeze(), cmap = \"gray\")\n",
        "plt.title(label)\n",
        "plt.axis(False);"
      ],
      "metadata": {
        "id": "7Let3mvEdvW8",
        "outputId": "023d0334-7be3-47fa-f3f7-ae81522c4d7b",
        "colab": {
          "base_uri": "https://localhost:8080/",
          "height": 598
        }
      },
      "execution_count": 88,
      "outputs": [
        {
          "output_type": "display_data",
          "data": {
            "text/plain": [
              "<Figure size 1000x700 with 1 Axes>"
            ],
            "image/png": "[encoded data removed]"
          },
          "metadata": {}
        }
      ]
    },
    {
      "cell_type": "markdown",
      "source": [
        "#### Let's proceed to view random images from our data"
      ],
      "metadata": {
        "id": "tGhX72qvfQ7v"
      }
    },
    {
      "cell_type": "code",
      "source": [
        "figure = plt.figure(figsize=(10, 7))\n",
        "rows = 4\n",
        "cols = 4\n",
        "for i in range(1,rows*cols+1):\n",
        "  random_idx = torch.randint(1, len(train_data), size=[1]).item()\n",
        "  image, label = train_data[random_idx]\n",
        "  figure.add_subplot(rows, cols, i)\n",
        "  plt.imshow(image.squeeze())\n",
        "  plt.title(class_names[label])\n",
        "  plt.axis(False);"
      ],
      "metadata": {
        "id": "RzTU0tfPfef5",
        "outputId": "d2bc8a5c-d1f9-4906-c8ba-0a47d611002b",
        "colab": {
          "base_uri": "https://localhost:8080/",
          "height": 598
        }
      },
      "execution_count": 89,
      "outputs": [
        {
          "output_type": "display_data",
          "data": {
            "text/plain": [
              "<Figure size 1000x700 with 16 Axes>"
            ],
            "image/png": "[encoded data removed]"
          },
          "metadata": {}
        }
      ]
    },
    {
      "cell_type": "code",
      "source": [
        "figure = plt.figure(figsize=(10,7))\n",
        "rows, cols = 5,5\n",
        "for i in range(1, rows*cols+1):\n",
        "  random_idx = torch.randint(1, len(train_data), size=[1]).item()\n",
        "  image, label = train_data[random_idx]\n",
        "  figure.add_subplot(rows, cols, i)\n",
        "  plt.imshow(image.squeeze(), cmap = \"gray\")\n",
        "  plt.title(class_names[label])\n",
        "  plt.axis(False);"
      ],
      "metadata": {
        "id": "oWIjC87EfebW",
        "outputId": "b1e3a9be-b618-42a2-d92b-860092eb9052",
        "colab": {
          "base_uri": "https://localhost:8080/",
          "height": 598
        }
      },
      "execution_count": 90,
      "outputs": [
        {
          "output_type": "display_data",
          "data": {
            "text/plain": [
              "<Figure size 1000x700 with 25 Axes>"
            ],
            "image/png": "[encoded data removed]"
          },
          "metadata": {}
        }
      ]
    },
    {
      "cell_type": "markdown",
      "source": [
        "#### Great! Let's proceed to load our data in batches. We will train the data per batch within each epoch (forward pass)\n"
      ],
      "metadata": {
        "id": "VR4yqg3lfeWX"
      }
    },
    {
      "cell_type": "code",
      "source": [
        "from torch.utils.data import DataLoader"
      ],
      "metadata": {
        "id": "-8DMvdK6feRr"
      },
      "execution_count": 91,
      "outputs": []
    },
    {
      "cell_type": "code",
      "source": [
        "train_batches = DataLoader(\n",
        "    train_data,\n",
        "    batch_size = 32, # A batch_size of 32 is good. But this is an hyperparameter that can be changed e.g 32, 64, 128, 256, 512\n",
        "    shuffle = True\n",
        ")\n",
        "\n",
        "test_batches = DataLoader(\n",
        "    test_data,\n",
        "    batch_size = 32,\n",
        ")\n",
        "\n",
        "print(f\"There are {len(train_batches)} batches of {len(train_batches.dataset)} samples\")\n",
        "print(f\"There are {len(test_batches)} batches of {len(test_batches.dataset)} samples\")"
      ],
      "metadata": {
        "id": "MUfuVEe-feMw",
        "outputId": "5cd4ed6a-f2e8-420a-c5ac-33bb349bee26",
        "colab": {
          "base_uri": "https://localhost:8080/"
        }
      },
      "execution_count": 92,
      "outputs": [
        {
          "output_type": "stream",
          "name": "stdout",
          "text": [
            "There are 1875 batches of 60000 samples\n",
            "There are 313 batches of 10000 samples\n"
          ]
        }
      ]
    },
    {
      "cell_type": "code",
      "source": [
        "train_batches.dataset"
      ],
      "metadata": {
        "id": "n9BySvskfeG9",
        "outputId": "ac3a04d5-0833-4011-867f-1a5a694d7dea",
        "colab": {
          "base_uri": "https://localhost:8080/"
        }
      },
      "execution_count": 93,
      "outputs": [
        {
          "output_type": "execute_result",
          "data": {
            "text/plain": [
              "Dataset FashionMNIST\n",
              "    Number of datapoints: 60000\n",
              "    Root location: data\n",
              "    Split: Train\n",
              "    StandardTransform\n",
              "Transform: ToTensor()"
            ]
          },
          "metadata": {},
          "execution_count": 93
        }
      ]
    },
    {
      "cell_type": "code",
      "source": [
        "len(train_batches.dataset)"
      ],
      "metadata": {
        "id": "VbjDwjypkYhW",
        "outputId": "53f21479-d6ce-469f-e8f5-7f1ee0a475d9",
        "colab": {
          "base_uri": "https://localhost:8080/"
        }
      },
      "execution_count": 94,
      "outputs": [
        {
          "output_type": "execute_result",
          "data": {
            "text/plain": [
              "60000"
            ]
          },
          "metadata": {},
          "execution_count": 94
        }
      ]
    },
    {
      "cell_type": "markdown",
      "source": [
        "#### Great , we have our data ready in batches and already splitted. We can proceed to view one of the images in the batches and then build our model"
      ],
      "metadata": {
        "id": "6YHra62dkh58"
      }
    },
    {
      "cell_type": "code",
      "source": [
        "image, label = train_batches[0][0]"
      ],
      "metadata": {
        "id": "vT1Ry9d-mwUf",
        "outputId": "d8d280e7-622a-41e8-9fba-a4995a5cfadf",
        "colab": {
          "base_uri": "https://localhost:8080/",
          "height": 141
        }
      },
      "execution_count": 95,
      "outputs": [
        {
          "output_type": "error",
          "ename": "TypeError",
          "evalue": "'DataLoader' object is not subscriptable",
          "traceback": [
            "\u001b[0;31m---------------------------------------------------------------------------\u001b[0m",
            "\u001b[0;31mTypeError\u001b[0m                                 Traceback (most recent call last)",
            "\u001b[0;32m<ipython-input-95-12d428f63e7d>\u001b[0m in \u001b[0;36m<cell line: 1>\u001b[0;34m()\u001b[0m\n\u001b[0;32m----> 1\u001b[0;31m \u001b[0mimage\u001b[0m\u001b[0;34m,\u001b[0m \u001b[0mlabel\u001b[0m \u001b[0;34m=\u001b[0m \u001b[0mtrain_batches\u001b[0m\u001b[0;34m[\u001b[0m\u001b[0;36m0\u001b[0m\u001b[0;34m]\u001b[0m\u001b[0;34m[\u001b[0m\u001b[0;36m0\u001b[0m\u001b[0;34m]\u001b[0m\u001b[0;34m\u001b[0m\u001b[0;34m\u001b[0m\u001b[0m\n\u001b[0m",
            "\u001b[0;31mTypeError\u001b[0m: 'DataLoader' object is not subscriptable"
          ]
        }
      ]
    },
    {
      "cell_type": "markdown",
      "source": [
        "We are not able to select directly from the train_batches because we need to return it as an iterable"
      ],
      "metadata": {
        "id": "V8ypZdbDnHyh"
      }
    },
    {
      "cell_type": "code",
      "source": [
        "train_batches_images, train_batches_labels = next(iter(train_batches))"
      ],
      "metadata": {
        "id": "LNYsIzVDnS3P"
      },
      "execution_count": null,
      "outputs": []
    },
    {
      "cell_type": "code",
      "source": [
        "image, label = train_batches_images[0], train_batches_labels[0]"
      ],
      "metadata": {
        "id": "7pghSG4XnURk"
      },
      "execution_count": null,
      "outputs": []
    },
    {
      "cell_type": "code",
      "source": [
        "print(f\"Each image has the shape: {image.shape}\")"
      ],
      "metadata": {
        "id": "X9AzCtbDqx7Q"
      },
      "execution_count": null,
      "outputs": []
    },
    {
      "cell_type": "code",
      "source": [
        "plt.imshow(image.squeeze())\n",
        "plt.title(class_names[label])\n",
        "plt.axis(False)\n",
        "plt.show();"
      ],
      "metadata": {
        "id": "DjsJ4E-dnUJ7"
      },
      "execution_count": null,
      "outputs": []
    },
    {
      "cell_type": "markdown",
      "source": [
        "#### Great! We can now proceed to build our model. First we'll build the baseline model"
      ],
      "metadata": {
        "id": "3kn1q4v_nUEA"
      }
    },
    {
      "cell_type": "code",
      "source": [
        "from torch import nn"
      ],
      "metadata": {
        "id": "bny4N0cIqL43"
      },
      "execution_count": null,
      "outputs": []
    },
    {
      "cell_type": "code",
      "source": [
        "class BaseLineModel(nn.Module):\n",
        "  def __init__(self):\n",
        "    super().__init__()\n",
        "    self.flatten = nn.Flatten() # allows us convert our image to a single feature vector\n",
        "    self.linear_layer = nn.Linear(in_features = 784, out_features= 10)\n",
        "    self.linear_layer_1 = nn.Linear(in_features = 10, out_features = len(class_names))\n",
        "\n",
        "  def forward(self, x:torch.Tensor):\n",
        "    return self.linear_layer_1(self.linear_layer(self.flatten(x)))"
      ],
      "metadata": {
        "id": "b-YWzQ_snT-D"
      },
      "execution_count": 163,
      "outputs": []
    },
    {
      "cell_type": "code",
      "source": [
        "torch.manual_seed(42)\n",
        "model_0 = BaseLineModel()"
      ],
      "metadata": {
        "id": "n7UQdeDzIFQl"
      },
      "execution_count": 164,
      "outputs": []
    },
    {
      "cell_type": "code",
      "source": [
        "loss_fn = nn.CrossEntropyLoss()\n",
        "optimizer = torch.optim.SGD(params= model_0.parameters(),\n",
        "                            lr = 0.01)\n",
        "try:\n",
        "  import torchmetrics\n",
        "except:\n",
        "  !pip install torchmetrics\n",
        "  from torchmetrics import Accuracy\n",
        "  accuracy_fn = Accuracy(task=\"multiclass\", num_classes=len(class_names))"
      ],
      "metadata": {
        "id": "mXjIqi-SH2dJ"
      },
      "execution_count": 165,
      "outputs": []
    },
    {
      "cell_type": "code",
      "source": [
        "def train_test_model(epochs: int,\n",
        "                     model: torch.nn.Module,\n",
        "                     train_dataloader: torch.utils.data.DataLoader,\n",
        "                     test_dataloader: torch.utils.data.DataLoader,\n",
        "                     loss_fn: torch.nn.Module,\n",
        "                     optimizer: torch.optim.Optimizer,\n",
        "                     accuracy_fn\n",
        "                     ):\n",
        "    \"\"\"\n",
        "    Function that takes a model, dataloaders, loss function, optimizer, and an accuracy function and returns model predictions following training and testing\n",
        "    \"\"\"\n",
        "    from tqdm.auto import tqdm\n",
        "\n",
        "    train_loss, train_acc= 0, 0\n",
        "    for epoch in tqdm(range(epochs)):\n",
        "      for batch, (X,y) in enumerate(train_dataloader):\n",
        "        model.train()\n",
        "        # Model training\n",
        "        logits = model_0(X)\n",
        "        y_preds = torch.argmax(torch.softmax(logits, dim=1), dim=1)\n",
        "        # calculate the loss\n",
        "        loss = loss_fn(logits, y)\n",
        "        train_loss += loss\n",
        "        train_acc += accuracy_fn(y_preds, y)\n",
        "\n",
        "        # Zero the gradients\n",
        "        optimizer.zero_grad()\n",
        "\n",
        "        # Perfrom backpropagation\n",
        "        loss.backward()\n",
        "\n",
        "        # Step the optimizer\n",
        "        optimizer.step()\n",
        "\n",
        "\n",
        "      train_loss /= len(train_batches)\n",
        "      train_acc /= len(train_batches)\n",
        "\n",
        "      print(f\"Epoch: {epoch} | Train loss: {train_loss} | Train accuracy: {train_acc}\")\n",
        "      with torch.inference_mode():\n",
        "        model.eval()\n",
        "        test_loss, test_acc = 0,0\n",
        "        for X,y in test_dataloader:\n",
        "          test_logits = model(X)\n",
        "\n",
        "          test_preds = torch.argmax(torch.softmax(test_logits, dim=1), dim=1)\n",
        "\n",
        "          test_loss = loss_fn(test_logits, y)\n",
        "          test_acc = accuracy_fn(y, test_preds)\n",
        "\n",
        "      print(f\"Epoch: {epoch} | Test loss: {test_loss} | Test accuracy: {test_acc}\")\n",
        "\n",
        "\n"
      ],
      "metadata": {
        "id": "i3bu8iPzHpYT"
      },
      "execution_count": 166,
      "outputs": []
    },
    {
      "cell_type": "code",
      "source": [
        "train_test_model(epochs=3,\n",
        "                 model=model_0,\n",
        "                 train_dataloader = train_batches,\n",
        "                 test_dataloader= test_batches,\n",
        "                 loss_fn=loss_fn,\n",
        "                 optimizer=optimizer,\n",
        "                 accuracy_fn = accuracy_fn)"
      ],
      "metadata": {
        "id": "A7mCYy5RQ4UF",
        "outputId": "356f818a-49aa-4ea0-bc2e-a574492a53ef",
        "colab": {
          "base_uri": "https://localhost:8080/",
          "height": 153,
          "referenced_widgets": [
            "028ed079993242aab10fba75587e8774",
            "3d72e4bda8414ecd8da0a19192932d3d",
            "6bb58d1b23614370b363dd73f76b6a67",
            "97813172331647c2812a547d098e2f90",
            "124ca6b580db4c70be1b838b3910b392",
            "9789d1b36493412ab301fd6727c5f488",
            "a53a75a8a3764e6aa16d67899a9c30dd",
            "6bfa1bc5a6a04a1fad4dc83d7359afc2",
            "87298479d11740d98d5c7b9b44846dd7",
            "ff9da1f3863942a6a5cb3d2eb68f8655",
            "00f672cf903a4bbfa3491dd4f47b0c87"
          ]
        }
      },
      "execution_count": 167,
      "outputs": [
        {
          "output_type": "display_data",
          "data": {
            "text/plain": [
              "  0%|          | 0/3 [00:00<?, ?it/s]"
            ],
            "application/vnd.jupyter.widget-view+json": {
              "version_major": 2,
              "version_minor": 0,
              "model_id": "028ed079993242aab10fba75587e8774"
            }
          },
          "metadata": {}
        },
        {
          "output_type": "stream",
          "name": "stdout",
          "text": [
            "Epoch: 0 | Train loss: 0.9086608290672302 | Train accuracy: 0.7075499892234802\n",
            "Epoch: 0 | Test loss: 0.38089773058891296 | Test accuracy: 0.9375\n",
            "Epoch: 1 | Train loss: 0.5575246214866638 | Train accuracy: 0.8121106624603271\n",
            "Epoch: 1 | Test loss: 0.32175177335739136 | Test accuracy: 0.875\n",
            "Epoch: 2 | Train loss: 0.502638578414917 | Train accuracy: 0.8283831477165222\n",
            "Epoch: 2 | Test loss: 0.30707165598869324 | Test accuracy: 0.875\n"
          ]
        }
      ]
    },
    {
      "cell_type": "markdown",
      "source": [
        "#### Next, we will build the TinyVGG, CNN architecture by replicating the arcitecture from the CNN Explainer website."
      ],
      "metadata": {
        "id": "twYHHp6NqJ6u"
      }
    },
    {
      "cell_type": "code",
      "source": [],
      "metadata": {
        "id": "rCxQMSAUi1Se"
      },
      "execution_count": null,
      "outputs": []
    }
  ]
}